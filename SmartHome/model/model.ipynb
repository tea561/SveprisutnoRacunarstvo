{
 "cells": [
  {
   "cell_type": "code",
   "execution_count": 1,
   "metadata": {},
   "outputs": [
    {
     "ename": "ModuleNotFoundError",
     "evalue": "No module named 'tensorflow'",
     "output_type": "error",
     "traceback": [
      "\u001b[1;31m---------------------------------------------------------------------------\u001b[0m",
      "\u001b[1;31mModuleNotFoundError\u001b[0m                       Traceback (most recent call last)",
      "\u001b[1;32m~\\AppData\\Local\\Temp\\ipykernel_8412\\3793406994.py\u001b[0m in \u001b[0;36m<module>\u001b[1;34m\u001b[0m\n\u001b[1;32m----> 1\u001b[1;33m \u001b[1;32mimport\u001b[0m \u001b[0mtensorflow\u001b[0m \u001b[1;32mas\u001b[0m \u001b[0mtf\u001b[0m\u001b[1;33m\u001b[0m\u001b[0m\n\u001b[0m",
      "\u001b[1;31mModuleNotFoundError\u001b[0m: No module named 'tensorflow'"
     ]
    }
   ],
   "source": [
    "import tensorflow as tf"
   ]
  },
  {
   "cell_type": "code",
   "execution_count": 2,
   "metadata": {},
   "outputs": [
    {
     "name": "stdout",
     "output_type": "stream",
     "text": [
      "Num GPUs Available:  1\n"
     ]
    }
   ],
   "source": [
    "print(\"Num GPUs Available: \", len(tf.config.list_physical_devices('GPU')))\n"
   ]
  },
  {
   "cell_type": "code",
   "execution_count": 1,
   "metadata": {},
   "outputs": [],
   "source": [
    "import json\n",
    "from pycocotools.coco import COCO\n",
    "import os\n",
    "from PIL import Image"
   ]
  },
  {
   "cell_type": "code",
   "execution_count": 6,
   "metadata": {},
   "outputs": [],
   "source": [
    "baseDir = 'coco\\\\train'\n",
    "trainDir = os.path.join(baseDir, 'train2017')\n",
    "dataType = 'train2017'\n",
    "annFile = os.path.join(baseDir, 'annotations', f'instances_{dataType}.json')"
   ]
  },
  {
   "cell_type": "code",
   "execution_count": 7,
   "metadata": {},
   "outputs": [
    {
     "name": "stdout",
     "output_type": "stream",
     "text": [
      "loading annotations into memory...\n",
      "Done (t=15.49s)\n",
      "creating index...\n",
      "index created!\n"
     ]
    }
   ],
   "source": [
    "coco = COCO(annFile)"
   ]
  },
  {
   "cell_type": "code",
   "execution_count": 44,
   "metadata": {},
   "outputs": [],
   "source": [
    "import shutil\n",
    "target_dir = 'data\\\\train'\n",
    "desired_classes = ['person', 'dog', 'cat']\n",
    "class_ids = coco.getCatIds(catNms=desired_classes)\n",
    "for category in desired_classes:\n",
    "    class_id = coco.getCatIds(catNms=[category])\n",
    "    img_ids = coco.getImgIds(catIds=class_id)\n",
    "    img_ids = list(set(img_ids))\n",
    "    target_class_dir = os.path.join(target_dir, category)\n",
    "    for image_id in img_ids:\n",
    "        image_info = coco.loadImgs(image_id)[0]\n",
    "        image_path = os.path.join(trainDir, image_info['file_name'])\n",
    "        shutil.copy(image_path, target_class_dir)\n",
    "    "
   ]
  },
  {
   "cell_type": "code",
   "execution_count": 68,
   "metadata": {},
   "outputs": [],
   "source": [
    "testDir = 'coco\\\\test'\n",
    "annFile = os.path.join(testDir, 'annotations', f'image_info_test2017.json')\n",
    "testDir = 'coco\\\\test\\\\test2017'"
   ]
  },
  {
   "cell_type": "code",
   "execution_count": 69,
   "metadata": {},
   "outputs": [
    {
     "name": "stdout",
     "output_type": "stream",
     "text": [
      "loading annotations into memory...\n",
      "Done (t=0.10s)\n",
      "creating index...\n",
      "index created!\n"
     ]
    }
   ],
   "source": [
    "coco = COCO(annFile)"
   ]
  },
  {
   "cell_type": "code",
   "execution_count": 71,
   "metadata": {},
   "outputs": [
    {
     "data": {
      "text/plain": [
       "[]"
      ]
     },
     "execution_count": 71,
     "metadata": {},
     "output_type": "execute_result"
    }
   ],
   "source": [
    "desired_classes = ['person', 'dog', 'cat']\n",
    "class_ids = coco.getCatIds(catNms=desired_classes)\n",
    "img_ids = coco.getImgIds(catIds=1)\n",
    "img_ids"
   ]
  },
  {
   "cell_type": "code",
   "execution_count": 60,
   "metadata": {},
   "outputs": [],
   "source": [
    "target_dir = 'data\\\\test'\n",
    "desired_classes = ['person', 'dog', 'cat']\n",
    "class_ids = coco.getCatIds(catNms=desired_classes)\n",
    "for category in desired_classes:\n",
    "    class_id = coco.getCatIds(catNms=[category])\n",
    "    img_ids = coco.getImgIds(catIds=class_id)\n",
    "    img_ids = list(set(img_ids))\n",
    "    target_class_dir = os.path.join(target_dir, category)\n",
    "    for image_id in img_ids:\n",
    "        image_info = coco.loadImgs(image_id)[0]\n",
    "        image_path = os.path.join(test, image_info['file_name'])\n",
    "        shutil.copy(image_path, target_class_dir)"
   ]
  },
  {
   "cell_type": "code",
   "execution_count": 11,
   "metadata": {},
   "outputs": [],
   "source": [
    "import numpy as np"
   ]
  },
  {
   "cell_type": "code",
   "execution_count": 12,
   "metadata": {},
   "outputs": [],
   "source": [
    "image_size = (224, 224)"
   ]
  },
  {
   "cell_type": "code",
   "execution_count": 46,
   "metadata": {},
   "outputs": [],
   "source": [
    "import tensorflow as tf"
   ]
  },
  {
   "cell_type": "code",
   "execution_count": 47,
   "metadata": {},
   "outputs": [
    {
     "name": "stdout",
     "output_type": "stream",
     "text": [
      "WARNING:tensorflow:`input_shape` is undefined or non-square, or `rows` is not in [96, 128, 160, 192, 224]. Weights for input shape (224, 224) will be loaded as the default.\n",
      "Downloading data from https://storage.googleapis.com/tensorflow/keras-applications/mobilenet_v2/mobilenet_v2_weights_tf_dim_ordering_tf_kernels_1.0_224_no_top.h5\n",
      "9406464/9406464 [==============================] - 1s 0us/step\n",
      "Model: \"mobilenetv2_1.00_224\"\n",
      "__________________________________________________________________________________________________\n",
      " Layer (type)                   Output Shape         Param #     Connected to                     \n",
      "==================================================================================================\n",
      " input_1 (InputLayer)           [(None, None, None,  0           []                               \n",
      "                                 3)]                                                              \n",
      "                                                                                                  \n",
      " Conv1 (Conv2D)                 (None, None, None,   864         ['input_1[0][0]']                \n",
      "                                32)                                                               \n",
      "                                                                                                  \n",
      " bn_Conv1 (BatchNormalization)  (None, None, None,   128         ['Conv1[0][0]']                  \n",
      "                                32)                                                               \n",
      "                                                                                                  \n",
      " Conv1_relu (ReLU)              (None, None, None,   0           ['bn_Conv1[0][0]']               \n",
      "                                32)                                                               \n",
      "                                                                                                  \n",
      " expanded_conv_depthwise (Depth  (None, None, None,   288        ['Conv1_relu[0][0]']             \n",
      " wiseConv2D)                    32)                                                               \n",
      "                                                                                                  \n",
      " expanded_conv_depthwise_BN (Ba  (None, None, None,   128        ['expanded_conv_depthwise[0][0]']\n",
      " tchNormalization)              32)                                                               \n",
      "                                                                                                  \n",
      " expanded_conv_depthwise_relu (  (None, None, None,   0          ['expanded_conv_depthwise_BN[0][0\n",
      " ReLU)                          32)                              ]']                              \n",
      "                                                                                                  \n",
      " expanded_conv_project (Conv2D)  (None, None, None,   512        ['expanded_conv_depthwise_relu[0]\n",
      "                                16)                              [0]']                            \n",
      "                                                                                                  \n",
      " expanded_conv_project_BN (Batc  (None, None, None,   64         ['expanded_conv_project[0][0]']  \n",
      " hNormalization)                16)                                                               \n",
      "                                                                                                  \n",
      " block_1_expand (Conv2D)        (None, None, None,   1536        ['expanded_conv_project_BN[0][0]'\n",
      "                                96)                              ]                                \n",
      "                                                                                                  \n",
      " block_1_expand_BN (BatchNormal  (None, None, None,   384        ['block_1_expand[0][0]']         \n",
      " ization)                       96)                                                               \n",
      "                                                                                                  \n",
      " block_1_expand_relu (ReLU)     (None, None, None,   0           ['block_1_expand_BN[0][0]']      \n",
      "                                96)                                                               \n",
      "                                                                                                  \n",
      " block_1_pad (ZeroPadding2D)    (None, None, None,   0           ['block_1_expand_relu[0][0]']    \n",
      "                                96)                                                               \n",
      "                                                                                                  \n",
      " block_1_depthwise (DepthwiseCo  (None, None, None,   864        ['block_1_pad[0][0]']            \n",
      " nv2D)                          96)                                                               \n",
      "                                                                                                  \n",
      " block_1_depthwise_BN (BatchNor  (None, None, None,   384        ['block_1_depthwise[0][0]']      \n",
      " malization)                    96)                                                               \n",
      "                                                                                                  \n",
      " block_1_depthwise_relu (ReLU)  (None, None, None,   0           ['block_1_depthwise_BN[0][0]']   \n",
      "                                96)                                                               \n",
      "                                                                                                  \n",
      " block_1_project (Conv2D)       (None, None, None,   2304        ['block_1_depthwise_relu[0][0]'] \n",
      "                                24)                                                               \n",
      "                                                                                                  \n",
      " block_1_project_BN (BatchNorma  (None, None, None,   96         ['block_1_project[0][0]']        \n",
      " lization)                      24)                                                               \n",
      "                                                                                                  \n",
      " block_2_expand (Conv2D)        (None, None, None,   3456        ['block_1_project_BN[0][0]']     \n",
      "                                144)                                                              \n",
      "                                                                                                  \n",
      " block_2_expand_BN (BatchNormal  (None, None, None,   576        ['block_2_expand[0][0]']         \n",
      " ization)                       144)                                                              \n",
      "                                                                                                  \n",
      " block_2_expand_relu (ReLU)     (None, None, None,   0           ['block_2_expand_BN[0][0]']      \n",
      "                                144)                                                              \n",
      "                                                                                                  \n",
      " block_2_depthwise (DepthwiseCo  (None, None, None,   1296       ['block_2_expand_relu[0][0]']    \n",
      " nv2D)                          144)                                                              \n",
      "                                                                                                  \n",
      " block_2_depthwise_BN (BatchNor  (None, None, None,   576        ['block_2_depthwise[0][0]']      \n",
      " malization)                    144)                                                              \n",
      "                                                                                                  \n",
      " block_2_depthwise_relu (ReLU)  (None, None, None,   0           ['block_2_depthwise_BN[0][0]']   \n",
      "                                144)                                                              \n",
      "                                                                                                  \n",
      " block_2_project (Conv2D)       (None, None, None,   3456        ['block_2_depthwise_relu[0][0]'] \n",
      "                                24)                                                               \n",
      "                                                                                                  \n",
      " block_2_project_BN (BatchNorma  (None, None, None,   96         ['block_2_project[0][0]']        \n",
      " lization)                      24)                                                               \n",
      "                                                                                                  \n",
      " block_2_add (Add)              (None, None, None,   0           ['block_1_project_BN[0][0]',     \n",
      "                                24)                               'block_2_project_BN[0][0]']     \n",
      "                                                                                                  \n",
      " block_3_expand (Conv2D)        (None, None, None,   3456        ['block_2_add[0][0]']            \n",
      "                                144)                                                              \n",
      "                                                                                                  \n",
      " block_3_expand_BN (BatchNormal  (None, None, None,   576        ['block_3_expand[0][0]']         \n",
      " ization)                       144)                                                              \n",
      "                                                                                                  \n",
      " block_3_expand_relu (ReLU)     (None, None, None,   0           ['block_3_expand_BN[0][0]']      \n",
      "                                144)                                                              \n",
      "                                                                                                  \n",
      " block_3_pad (ZeroPadding2D)    (None, None, None,   0           ['block_3_expand_relu[0][0]']    \n",
      "                                144)                                                              \n",
      "                                                                                                  \n",
      " block_3_depthwise (DepthwiseCo  (None, None, None,   1296       ['block_3_pad[0][0]']            \n",
      " nv2D)                          144)                                                              \n",
      "                                                                                                  \n",
      " block_3_depthwise_BN (BatchNor  (None, None, None,   576        ['block_3_depthwise[0][0]']      \n",
      " malization)                    144)                                                              \n",
      "                                                                                                  \n",
      " block_3_depthwise_relu (ReLU)  (None, None, None,   0           ['block_3_depthwise_BN[0][0]']   \n",
      "                                144)                                                              \n",
      "                                                                                                  \n",
      " block_3_project (Conv2D)       (None, None, None,   4608        ['block_3_depthwise_relu[0][0]'] \n",
      "                                32)                                                               \n",
      "                                                                                                  \n",
      " block_3_project_BN (BatchNorma  (None, None, None,   128        ['block_3_project[0][0]']        \n",
      " lization)                      32)                                                               \n",
      "                                                                                                  \n",
      " block_4_expand (Conv2D)        (None, None, None,   6144        ['block_3_project_BN[0][0]']     \n",
      "                                192)                                                              \n",
      "                                                                                                  \n",
      " block_4_expand_BN (BatchNormal  (None, None, None,   768        ['block_4_expand[0][0]']         \n",
      " ization)                       192)                                                              \n",
      "                                                                                                  \n",
      " block_4_expand_relu (ReLU)     (None, None, None,   0           ['block_4_expand_BN[0][0]']      \n",
      "                                192)                                                              \n",
      "                                                                                                  \n",
      " block_4_depthwise (DepthwiseCo  (None, None, None,   1728       ['block_4_expand_relu[0][0]']    \n",
      " nv2D)                          192)                                                              \n",
      "                                                                                                  \n",
      " block_4_depthwise_BN (BatchNor  (None, None, None,   768        ['block_4_depthwise[0][0]']      \n",
      " malization)                    192)                                                              \n",
      "                                                                                                  \n",
      " block_4_depthwise_relu (ReLU)  (None, None, None,   0           ['block_4_depthwise_BN[0][0]']   \n",
      "                                192)                                                              \n",
      "                                                                                                  \n",
      " block_4_project (Conv2D)       (None, None, None,   6144        ['block_4_depthwise_relu[0][0]'] \n",
      "                                32)                                                               \n",
      "                                                                                                  \n",
      " block_4_project_BN (BatchNorma  (None, None, None,   128        ['block_4_project[0][0]']        \n",
      " lization)                      32)                                                               \n",
      "                                                                                                  \n",
      " block_4_add (Add)              (None, None, None,   0           ['block_3_project_BN[0][0]',     \n",
      "                                32)                               'block_4_project_BN[0][0]']     \n",
      "                                                                                                  \n",
      " block_5_expand (Conv2D)        (None, None, None,   6144        ['block_4_add[0][0]']            \n",
      "                                192)                                                              \n",
      "                                                                                                  \n",
      " block_5_expand_BN (BatchNormal  (None, None, None,   768        ['block_5_expand[0][0]']         \n",
      " ization)                       192)                                                              \n",
      "                                                                                                  \n",
      " block_5_expand_relu (ReLU)     (None, None, None,   0           ['block_5_expand_BN[0][0]']      \n",
      "                                192)                                                              \n",
      "                                                                                                  \n",
      " block_5_depthwise (DepthwiseCo  (None, None, None,   1728       ['block_5_expand_relu[0][0]']    \n",
      " nv2D)                          192)                                                              \n",
      "                                                                                                  \n",
      " block_5_depthwise_BN (BatchNor  (None, None, None,   768        ['block_5_depthwise[0][0]']      \n",
      " malization)                    192)                                                              \n",
      "                                                                                                  \n",
      " block_5_depthwise_relu (ReLU)  (None, None, None,   0           ['block_5_depthwise_BN[0][0]']   \n",
      "                                192)                                                              \n",
      "                                                                                                  \n",
      " block_5_project (Conv2D)       (None, None, None,   6144        ['block_5_depthwise_relu[0][0]'] \n",
      "                                32)                                                               \n",
      "                                                                                                  \n",
      " block_5_project_BN (BatchNorma  (None, None, None,   128        ['block_5_project[0][0]']        \n",
      " lization)                      32)                                                               \n",
      "                                                                                                  \n",
      " block_5_add (Add)              (None, None, None,   0           ['block_4_add[0][0]',            \n",
      "                                32)                               'block_5_project_BN[0][0]']     \n",
      "                                                                                                  \n",
      " block_6_expand (Conv2D)        (None, None, None,   6144        ['block_5_add[0][0]']            \n",
      "                                192)                                                              \n",
      "                                                                                                  \n",
      " block_6_expand_BN (BatchNormal  (None, None, None,   768        ['block_6_expand[0][0]']         \n",
      " ization)                       192)                                                              \n",
      "                                                                                                  \n",
      " block_6_expand_relu (ReLU)     (None, None, None,   0           ['block_6_expand_BN[0][0]']      \n",
      "                                192)                                                              \n",
      "                                                                                                  \n",
      " block_6_pad (ZeroPadding2D)    (None, None, None,   0           ['block_6_expand_relu[0][0]']    \n",
      "                                192)                                                              \n",
      "                                                                                                  \n",
      " block_6_depthwise (DepthwiseCo  (None, None, None,   1728       ['block_6_pad[0][0]']            \n",
      " nv2D)                          192)                                                              \n",
      "                                                                                                  \n",
      " block_6_depthwise_BN (BatchNor  (None, None, None,   768        ['block_6_depthwise[0][0]']      \n",
      " malization)                    192)                                                              \n",
      "                                                                                                  \n",
      " block_6_depthwise_relu (ReLU)  (None, None, None,   0           ['block_6_depthwise_BN[0][0]']   \n",
      "                                192)                                                              \n",
      "                                                                                                  \n",
      " block_6_project (Conv2D)       (None, None, None,   12288       ['block_6_depthwise_relu[0][0]'] \n",
      "                                64)                                                               \n",
      "                                                                                                  \n",
      " block_6_project_BN (BatchNorma  (None, None, None,   256        ['block_6_project[0][0]']        \n",
      " lization)                      64)                                                               \n",
      "                                                                                                  \n",
      " block_7_expand (Conv2D)        (None, None, None,   24576       ['block_6_project_BN[0][0]']     \n",
      "                                384)                                                              \n",
      "                                                                                                  \n",
      " block_7_expand_BN (BatchNormal  (None, None, None,   1536       ['block_7_expand[0][0]']         \n",
      " ization)                       384)                                                              \n",
      "                                                                                                  \n",
      " block_7_expand_relu (ReLU)     (None, None, None,   0           ['block_7_expand_BN[0][0]']      \n",
      "                                384)                                                              \n",
      "                                                                                                  \n",
      " block_7_depthwise (DepthwiseCo  (None, None, None,   3456       ['block_7_expand_relu[0][0]']    \n",
      " nv2D)                          384)                                                              \n",
      "                                                                                                  \n",
      " block_7_depthwise_BN (BatchNor  (None, None, None,   1536       ['block_7_depthwise[0][0]']      \n",
      " malization)                    384)                                                              \n",
      "                                                                                                  \n",
      " block_7_depthwise_relu (ReLU)  (None, None, None,   0           ['block_7_depthwise_BN[0][0]']   \n",
      "                                384)                                                              \n",
      "                                                                                                  \n",
      " block_7_project (Conv2D)       (None, None, None,   24576       ['block_7_depthwise_relu[0][0]'] \n",
      "                                64)                                                               \n",
      "                                                                                                  \n",
      " block_7_project_BN (BatchNorma  (None, None, None,   256        ['block_7_project[0][0]']        \n",
      " lization)                      64)                                                               \n",
      "                                                                                                  \n",
      " block_7_add (Add)              (None, None, None,   0           ['block_6_project_BN[0][0]',     \n",
      "                                64)                               'block_7_project_BN[0][0]']     \n",
      "                                                                                                  \n",
      " block_8_expand (Conv2D)        (None, None, None,   24576       ['block_7_add[0][0]']            \n",
      "                                384)                                                              \n",
      "                                                                                                  \n",
      " block_8_expand_BN (BatchNormal  (None, None, None,   1536       ['block_8_expand[0][0]']         \n",
      " ization)                       384)                                                              \n",
      "                                                                                                  \n",
      " block_8_expand_relu (ReLU)     (None, None, None,   0           ['block_8_expand_BN[0][0]']      \n",
      "                                384)                                                              \n",
      "                                                                                                  \n",
      " block_8_depthwise (DepthwiseCo  (None, None, None,   3456       ['block_8_expand_relu[0][0]']    \n",
      " nv2D)                          384)                                                              \n",
      "                                                                                                  \n",
      " block_8_depthwise_BN (BatchNor  (None, None, None,   1536       ['block_8_depthwise[0][0]']      \n",
      " malization)                    384)                                                              \n",
      "                                                                                                  \n",
      " block_8_depthwise_relu (ReLU)  (None, None, None,   0           ['block_8_depthwise_BN[0][0]']   \n",
      "                                384)                                                              \n",
      "                                                                                                  \n",
      " block_8_project (Conv2D)       (None, None, None,   24576       ['block_8_depthwise_relu[0][0]'] \n",
      "                                64)                                                               \n",
      "                                                                                                  \n",
      " block_8_project_BN (BatchNorma  (None, None, None,   256        ['block_8_project[0][0]']        \n",
      " lization)                      64)                                                               \n",
      "                                                                                                  \n",
      " block_8_add (Add)              (None, None, None,   0           ['block_7_add[0][0]',            \n",
      "                                64)                               'block_8_project_BN[0][0]']     \n",
      "                                                                                                  \n",
      " block_9_expand (Conv2D)        (None, None, None,   24576       ['block_8_add[0][0]']            \n",
      "                                384)                                                              \n",
      "                                                                                                  \n",
      " block_9_expand_BN (BatchNormal  (None, None, None,   1536       ['block_9_expand[0][0]']         \n",
      " ization)                       384)                                                              \n",
      "                                                                                                  \n",
      " block_9_expand_relu (ReLU)     (None, None, None,   0           ['block_9_expand_BN[0][0]']      \n",
      "                                384)                                                              \n",
      "                                                                                                  \n",
      " block_9_depthwise (DepthwiseCo  (None, None, None,   3456       ['block_9_expand_relu[0][0]']    \n",
      " nv2D)                          384)                                                              \n",
      "                                                                                                  \n",
      " block_9_depthwise_BN (BatchNor  (None, None, None,   1536       ['block_9_depthwise[0][0]']      \n",
      " malization)                    384)                                                              \n",
      "                                                                                                  \n",
      " block_9_depthwise_relu (ReLU)  (None, None, None,   0           ['block_9_depthwise_BN[0][0]']   \n",
      "                                384)                                                              \n",
      "                                                                                                  \n",
      " block_9_project (Conv2D)       (None, None, None,   24576       ['block_9_depthwise_relu[0][0]'] \n",
      "                                64)                                                               \n",
      "                                                                                                  \n",
      " block_9_project_BN (BatchNorma  (None, None, None,   256        ['block_9_project[0][0]']        \n",
      " lization)                      64)                                                               \n",
      "                                                                                                  \n",
      " block_9_add (Add)              (None, None, None,   0           ['block_8_add[0][0]',            \n",
      "                                64)                               'block_9_project_BN[0][0]']     \n",
      "                                                                                                  \n",
      " block_10_expand (Conv2D)       (None, None, None,   24576       ['block_9_add[0][0]']            \n",
      "                                384)                                                              \n",
      "                                                                                                  \n",
      " block_10_expand_BN (BatchNorma  (None, None, None,   1536       ['block_10_expand[0][0]']        \n",
      " lization)                      384)                                                              \n",
      "                                                                                                  \n",
      " block_10_expand_relu (ReLU)    (None, None, None,   0           ['block_10_expand_BN[0][0]']     \n",
      "                                384)                                                              \n",
      "                                                                                                  \n",
      " block_10_depthwise (DepthwiseC  (None, None, None,   3456       ['block_10_expand_relu[0][0]']   \n",
      " onv2D)                         384)                                                              \n",
      "                                                                                                  \n",
      " block_10_depthwise_BN (BatchNo  (None, None, None,   1536       ['block_10_depthwise[0][0]']     \n",
      " rmalization)                   384)                                                              \n",
      "                                                                                                  \n",
      " block_10_depthwise_relu (ReLU)  (None, None, None,   0          ['block_10_depthwise_BN[0][0]']  \n",
      "                                384)                                                              \n",
      "                                                                                                  \n",
      " block_10_project (Conv2D)      (None, None, None,   36864       ['block_10_depthwise_relu[0][0]']\n",
      "                                96)                                                               \n",
      "                                                                                                  \n",
      " block_10_project_BN (BatchNorm  (None, None, None,   384        ['block_10_project[0][0]']       \n",
      " alization)                     96)                                                               \n",
      "                                                                                                  \n",
      " block_11_expand (Conv2D)       (None, None, None,   55296       ['block_10_project_BN[0][0]']    \n",
      "                                576)                                                              \n",
      "                                                                                                  \n",
      " block_11_expand_BN (BatchNorma  (None, None, None,   2304       ['block_11_expand[0][0]']        \n",
      " lization)                      576)                                                              \n",
      "                                                                                                  \n",
      " block_11_expand_relu (ReLU)    (None, None, None,   0           ['block_11_expand_BN[0][0]']     \n",
      "                                576)                                                              \n",
      "                                                                                                  \n",
      " block_11_depthwise (DepthwiseC  (None, None, None,   5184       ['block_11_expand_relu[0][0]']   \n",
      " onv2D)                         576)                                                              \n",
      "                                                                                                  \n",
      " block_11_depthwise_BN (BatchNo  (None, None, None,   2304       ['block_11_depthwise[0][0]']     \n",
      " rmalization)                   576)                                                              \n",
      "                                                                                                  \n",
      " block_11_depthwise_relu (ReLU)  (None, None, None,   0          ['block_11_depthwise_BN[0][0]']  \n",
      "                                576)                                                              \n",
      "                                                                                                  \n",
      " block_11_project (Conv2D)      (None, None, None,   55296       ['block_11_depthwise_relu[0][0]']\n",
      "                                96)                                                               \n",
      "                                                                                                  \n",
      " block_11_project_BN (BatchNorm  (None, None, None,   384        ['block_11_project[0][0]']       \n",
      " alization)                     96)                                                               \n",
      "                                                                                                  \n",
      " block_11_add (Add)             (None, None, None,   0           ['block_10_project_BN[0][0]',    \n",
      "                                96)                               'block_11_project_BN[0][0]']    \n",
      "                                                                                                  \n",
      " block_12_expand (Conv2D)       (None, None, None,   55296       ['block_11_add[0][0]']           \n",
      "                                576)                                                              \n",
      "                                                                                                  \n",
      " block_12_expand_BN (BatchNorma  (None, None, None,   2304       ['block_12_expand[0][0]']        \n",
      " lization)                      576)                                                              \n",
      "                                                                                                  \n",
      " block_12_expand_relu (ReLU)    (None, None, None,   0           ['block_12_expand_BN[0][0]']     \n",
      "                                576)                                                              \n",
      "                                                                                                  \n",
      " block_12_depthwise (DepthwiseC  (None, None, None,   5184       ['block_12_expand_relu[0][0]']   \n",
      " onv2D)                         576)                                                              \n",
      "                                                                                                  \n",
      " block_12_depthwise_BN (BatchNo  (None, None, None,   2304       ['block_12_depthwise[0][0]']     \n",
      " rmalization)                   576)                                                              \n",
      "                                                                                                  \n",
      " block_12_depthwise_relu (ReLU)  (None, None, None,   0          ['block_12_depthwise_BN[0][0]']  \n",
      "                                576)                                                              \n",
      "                                                                                                  \n",
      " block_12_project (Conv2D)      (None, None, None,   55296       ['block_12_depthwise_relu[0][0]']\n",
      "                                96)                                                               \n",
      "                                                                                                  \n",
      " block_12_project_BN (BatchNorm  (None, None, None,   384        ['block_12_project[0][0]']       \n",
      " alization)                     96)                                                               \n",
      "                                                                                                  \n",
      " block_12_add (Add)             (None, None, None,   0           ['block_11_add[0][0]',           \n",
      "                                96)                               'block_12_project_BN[0][0]']    \n",
      "                                                                                                  \n",
      " block_13_expand (Conv2D)       (None, None, None,   55296       ['block_12_add[0][0]']           \n",
      "                                576)                                                              \n",
      "                                                                                                  \n",
      " block_13_expand_BN (BatchNorma  (None, None, None,   2304       ['block_13_expand[0][0]']        \n",
      " lization)                      576)                                                              \n",
      "                                                                                                  \n",
      " block_13_expand_relu (ReLU)    (None, None, None,   0           ['block_13_expand_BN[0][0]']     \n",
      "                                576)                                                              \n",
      "                                                                                                  \n",
      " block_13_pad (ZeroPadding2D)   (None, None, None,   0           ['block_13_expand_relu[0][0]']   \n",
      "                                576)                                                              \n",
      "                                                                                                  \n",
      " block_13_depthwise (DepthwiseC  (None, None, None,   5184       ['block_13_pad[0][0]']           \n",
      " onv2D)                         576)                                                              \n",
      "                                                                                                  \n",
      " block_13_depthwise_BN (BatchNo  (None, None, None,   2304       ['block_13_depthwise[0][0]']     \n",
      " rmalization)                   576)                                                              \n",
      "                                                                                                  \n",
      " block_13_depthwise_relu (ReLU)  (None, None, None,   0          ['block_13_depthwise_BN[0][0]']  \n",
      "                                576)                                                              \n",
      "                                                                                                  \n",
      " block_13_project (Conv2D)      (None, None, None,   92160       ['block_13_depthwise_relu[0][0]']\n",
      "                                160)                                                              \n",
      "                                                                                                  \n",
      " block_13_project_BN (BatchNorm  (None, None, None,   640        ['block_13_project[0][0]']       \n",
      " alization)                     160)                                                              \n",
      "                                                                                                  \n",
      " block_14_expand (Conv2D)       (None, None, None,   153600      ['block_13_project_BN[0][0]']    \n",
      "                                960)                                                              \n",
      "                                                                                                  \n",
      " block_14_expand_BN (BatchNorma  (None, None, None,   3840       ['block_14_expand[0][0]']        \n",
      " lization)                      960)                                                              \n",
      "                                                                                                  \n",
      " block_14_expand_relu (ReLU)    (None, None, None,   0           ['block_14_expand_BN[0][0]']     \n",
      "                                960)                                                              \n",
      "                                                                                                  \n",
      " block_14_depthwise (DepthwiseC  (None, None, None,   8640       ['block_14_expand_relu[0][0]']   \n",
      " onv2D)                         960)                                                              \n",
      "                                                                                                  \n",
      " block_14_depthwise_BN (BatchNo  (None, None, None,   3840       ['block_14_depthwise[0][0]']     \n",
      " rmalization)                   960)                                                              \n",
      "                                                                                                  \n",
      " block_14_depthwise_relu (ReLU)  (None, None, None,   0          ['block_14_depthwise_BN[0][0]']  \n",
      "                                960)                                                              \n",
      "                                                                                                  \n",
      " block_14_project (Conv2D)      (None, None, None,   153600      ['block_14_depthwise_relu[0][0]']\n",
      "                                160)                                                              \n",
      "                                                                                                  \n",
      " block_14_project_BN (BatchNorm  (None, None, None,   640        ['block_14_project[0][0]']       \n",
      " alization)                     160)                                                              \n",
      "                                                                                                  \n",
      " block_14_add (Add)             (None, None, None,   0           ['block_13_project_BN[0][0]',    \n",
      "                                160)                              'block_14_project_BN[0][0]']    \n",
      "                                                                                                  \n",
      " block_15_expand (Conv2D)       (None, None, None,   153600      ['block_14_add[0][0]']           \n",
      "                                960)                                                              \n",
      "                                                                                                  \n",
      " block_15_expand_BN (BatchNorma  (None, None, None,   3840       ['block_15_expand[0][0]']        \n",
      " lization)                      960)                                                              \n",
      "                                                                                                  \n",
      " block_15_expand_relu (ReLU)    (None, None, None,   0           ['block_15_expand_BN[0][0]']     \n",
      "                                960)                                                              \n",
      "                                                                                                  \n",
      " block_15_depthwise (DepthwiseC  (None, None, None,   8640       ['block_15_expand_relu[0][0]']   \n",
      " onv2D)                         960)                                                              \n",
      "                                                                                                  \n",
      " block_15_depthwise_BN (BatchNo  (None, None, None,   3840       ['block_15_depthwise[0][0]']     \n",
      " rmalization)                   960)                                                              \n",
      "                                                                                                  \n",
      " block_15_depthwise_relu (ReLU)  (None, None, None,   0          ['block_15_depthwise_BN[0][0]']  \n",
      "                                960)                                                              \n",
      "                                                                                                  \n",
      " block_15_project (Conv2D)      (None, None, None,   153600      ['block_15_depthwise_relu[0][0]']\n",
      "                                160)                                                              \n",
      "                                                                                                  \n",
      " block_15_project_BN (BatchNorm  (None, None, None,   640        ['block_15_project[0][0]']       \n",
      " alization)                     160)                                                              \n",
      "                                                                                                  \n",
      " block_15_add (Add)             (None, None, None,   0           ['block_14_add[0][0]',           \n",
      "                                160)                              'block_15_project_BN[0][0]']    \n",
      "                                                                                                  \n",
      " block_16_expand (Conv2D)       (None, None, None,   153600      ['block_15_add[0][0]']           \n",
      "                                960)                                                              \n",
      "                                                                                                  \n",
      " block_16_expand_BN (BatchNorma  (None, None, None,   3840       ['block_16_expand[0][0]']        \n",
      " lization)                      960)                                                              \n",
      "                                                                                                  \n",
      " block_16_expand_relu (ReLU)    (None, None, None,   0           ['block_16_expand_BN[0][0]']     \n",
      "                                960)                                                              \n",
      "                                                                                                  \n",
      " block_16_depthwise (DepthwiseC  (None, None, None,   8640       ['block_16_expand_relu[0][0]']   \n",
      " onv2D)                         960)                                                              \n",
      "                                                                                                  \n",
      " block_16_depthwise_BN (BatchNo  (None, None, None,   3840       ['block_16_depthwise[0][0]']     \n",
      " rmalization)                   960)                                                              \n",
      "                                                                                                  \n",
      " block_16_depthwise_relu (ReLU)  (None, None, None,   0          ['block_16_depthwise_BN[0][0]']  \n",
      "                                960)                                                              \n",
      "                                                                                                  \n",
      " block_16_project (Conv2D)      (None, None, None,   307200      ['block_16_depthwise_relu[0][0]']\n",
      "                                320)                                                              \n",
      "                                                                                                  \n",
      " block_16_project_BN (BatchNorm  (None, None, None,   1280       ['block_16_project[0][0]']       \n",
      " alization)                     320)                                                              \n",
      "                                                                                                  \n",
      " Conv_1 (Conv2D)                (None, None, None,   409600      ['block_16_project_BN[0][0]']    \n",
      "                                1280)                                                             \n",
      "                                                                                                  \n",
      " Conv_1_bn (BatchNormalization)  (None, None, None,   5120       ['Conv_1[0][0]']                 \n",
      "                                1280)                                                             \n",
      "                                                                                                  \n",
      " out_relu (ReLU)                (None, None, None,   0           ['Conv_1_bn[0][0]']              \n",
      "                                1280)                                                             \n",
      "                                                                                                  \n",
      "==================================================================================================\n",
      "Total params: 2,257,984\n",
      "Trainable params: 2,223,872\n",
      "Non-trainable params: 34,112\n",
      "__________________________________________________________________________________________________\n"
     ]
    }
   ],
   "source": [
    "pretrained_model = tf.keras.applications.MobileNetV2(weights='imagenet', include_top=False)\n",
    "pretrained_model.summary()"
   ]
  },
  {
   "cell_type": "code",
   "execution_count": 48,
   "metadata": {},
   "outputs": [],
   "source": [
    "pretrained_model.trainable = False"
   ]
  },
  {
   "cell_type": "code",
   "execution_count": 91,
   "metadata": {},
   "outputs": [],
   "source": [
    "from keras.layers import Dense, Activation, Dropout, BatchNormalization\n",
    "from keras.layers import GlobalAveragePooling2D\n",
    "from keras import Model\n",
    "from keras.callbacks import EarlyStopping, ModelCheckpoint\n",
    "from keras.optimizers import Adam\n",
    "\n",
    "x = pretrained_model.output\n",
    "x = GlobalAveragePooling2D()(x)\n",
    "x = Dense(512)(x)\n",
    "x = BatchNormalization()(x)\n",
    "x = Activation('relu')(x)\n",
    "x = Dropout(0.5)(x)\n",
    "predictions = Dense(3, activation='softmax')(x)\n",
    "model = Model(inputs=pretrained_model.input, outputs=predictions)"
   ]
  },
  {
   "cell_type": "code",
   "execution_count": 92,
   "metadata": {},
   "outputs": [
    {
     "name": "stderr",
     "output_type": "stream",
     "text": [
      "c:\\Users\\Tea_W\\AppData\\Local\\Programs\\Python\\Python37\\lib\\site-packages\\keras\\optimizers\\optimizer_v2\\adam.py:114: UserWarning: The `lr` argument is deprecated, use `learning_rate` instead.\n",
      "  super().__init__(name, **kwargs)\n"
     ]
    }
   ],
   "source": [
    "filepath=\"inceptionv3_best.h5\"\n",
    "checkpoint = ModelCheckpoint(filepath, monitor='val_loss', verbose=1, \n",
    "                             save_best_only=True, mode='min')\n",
    "early_stop = EarlyStopping(monitor='val_loss', patience=7, restore_best_weights=True, mode='min')\n",
    "opt = Adam(lr=0.001)\n",
    "model.compile(loss='categorical_crossentropy',\n",
    "              optimizer = opt, \n",
    "              metrics=[\"accuracy\"])\n"
   ]
  },
  {
   "cell_type": "code",
   "execution_count": 93,
   "metadata": {},
   "outputs": [],
   "source": [
    "from keras.preprocessing.image import ImageDataGenerator"
   ]
  },
  {
   "cell_type": "code",
   "execution_count": 94,
   "metadata": {},
   "outputs": [
    {
     "name": "stdout",
     "output_type": "stream",
     "text": [
      "Found 50831 images belonging to 3 classes.\n"
     ]
    }
   ],
   "source": [
    "train_data_generator = ImageDataGenerator(\n",
    "        rescale=1./255,\n",
    "        horizontal_flip=True, \n",
    "        width_shift_range = 0.2, \n",
    "        height_shift_range = 0.2,\n",
    "        shear_range = 0.2, \n",
    "        zoom_range = 0.2, \n",
    "        validation_split=0.3)\n",
    "\n",
    "test_data_generator = ImageDataGenerator(rescale=1./255)\n",
    "\n",
    "train_data = train_data_generator.flow_from_directory('data/train/', target_size=(224, 224), shuffle=True, \n",
    "                                                       subset='training', class_mode='categorical')\n"
   ]
  },
  {
   "cell_type": "code",
   "execution_count": 95,
   "metadata": {},
   "outputs": [
    {
     "name": "stdout",
     "output_type": "stream",
     "text": [
      "Found 21783 images belonging to 3 classes.\n"
     ]
    }
   ],
   "source": [
    "validation_data = train_data_generator.flow_from_directory('data/train/', target_size=(224, 224), shuffle=True, \n",
    "                                                       subset='validation', class_mode='categorical')\n"
   ]
  },
  {
   "cell_type": "code",
   "execution_count": 96,
   "metadata": {},
   "outputs": [
    {
     "name": "stdout",
     "output_type": "stream",
     "text": [
      "Found 72614 images belonging to 3 classes.\n"
     ]
    }
   ],
   "source": [
    "test_data = train_data_generator.flow_from_directory('data/train/', target_size=(224, 224), shuffle=True, \n",
    "                                                       class_mode='categorical')\n"
   ]
  },
  {
   "cell_type": "code",
   "execution_count": 97,
   "metadata": {},
   "outputs": [
    {
     "name": "stdout",
     "output_type": "stream",
     "text": [
      "Epoch 1/15\n",
      "32/32 [==============================] - ETA: 0s - loss: 0.6347 - accuracy: 0.7871\n",
      "Epoch 1: val_loss improved from inf to 0.44789, saving model to inceptionv3_best.h5\n",
      "32/32 [==============================] - 24s 660ms/step - loss: 0.6347 - accuracy: 0.7871 - val_loss: 0.4479 - val_accuracy: 0.8875\n",
      "Epoch 2/15\n",
      "32/32 [==============================] - ETA: 0s - loss: 0.3169 - accuracy: 0.9170\n",
      "Epoch 2: val_loss did not improve from 0.44789\n",
      "32/32 [==============================] - 29s 905ms/step - loss: 0.3169 - accuracy: 0.9170 - val_loss: 0.5962 - val_accuracy: 0.8813\n",
      "Epoch 3/15\n",
      "32/32 [==============================] - ETA: 0s - loss: 0.3425 - accuracy: 0.9082\n",
      "Epoch 3: val_loss improved from 0.44789 to 0.22383, saving model to inceptionv3_best.h5\n",
      "32/32 [==============================] - 29s 918ms/step - loss: 0.3425 - accuracy: 0.9082 - val_loss: 0.2238 - val_accuracy: 0.9375\n",
      "Epoch 4/15\n",
      "32/32 [==============================] - ETA: 0s - loss: 0.3172 - accuracy: 0.8984\n",
      "Epoch 4: val_loss did not improve from 0.22383\n",
      "32/32 [==============================] - 29s 896ms/step - loss: 0.3172 - accuracy: 0.8984 - val_loss: 0.2891 - val_accuracy: 0.9187\n",
      "Epoch 5/15\n",
      "32/32 [==============================] - ETA: 0s - loss: 0.3545 - accuracy: 0.8984\n",
      "Epoch 5: val_loss did not improve from 0.22383\n",
      "32/32 [==============================] - 29s 912ms/step - loss: 0.3545 - accuracy: 0.8984 - val_loss: 0.2793 - val_accuracy: 0.9062\n",
      "Epoch 6/15\n",
      "32/32 [==============================] - ETA: 0s - loss: 0.3602 - accuracy: 0.8906\n",
      "Epoch 6: val_loss did not improve from 0.22383\n",
      "32/32 [==============================] - 31s 977ms/step - loss: 0.3602 - accuracy: 0.8906 - val_loss: 0.5188 - val_accuracy: 0.9062\n",
      "Epoch 7/15\n",
      "32/32 [==============================] - ETA: 0s - loss: 0.2763 - accuracy: 0.9189\n",
      "Epoch 7: val_loss did not improve from 0.22383\n",
      "32/32 [==============================] - 29s 896ms/step - loss: 0.2763 - accuracy: 0.9189 - val_loss: 0.8546 - val_accuracy: 0.8250\n",
      "Epoch 8/15\n",
      "32/32 [==============================] - ETA: 0s - loss: 0.3122 - accuracy: 0.9053\n",
      "Epoch 8: val_loss did not improve from 0.22383\n",
      "32/32 [==============================] - 28s 876ms/step - loss: 0.3122 - accuracy: 0.9053 - val_loss: 0.3048 - val_accuracy: 0.9125\n",
      "Epoch 9/15\n",
      "32/32 [==============================] - ETA: 0s - loss: 0.2683 - accuracy: 0.9180\n",
      "Epoch 9: val_loss improved from 0.22383 to 0.20302, saving model to inceptionv3_best.h5\n",
      "32/32 [==============================] - 30s 927ms/step - loss: 0.2683 - accuracy: 0.9180 - val_loss: 0.2030 - val_accuracy: 0.9250\n",
      "Epoch 10/15\n",
      "32/32 [==============================] - ETA: 0s - loss: 0.2908 - accuracy: 0.9057\n",
      "Epoch 10: val_loss did not improve from 0.20302\n",
      "32/32 [==============================] - 29s 916ms/step - loss: 0.2908 - accuracy: 0.9057 - val_loss: 0.2494 - val_accuracy: 0.9250\n",
      "Epoch 11/15\n",
      "32/32 [==============================] - ETA: 0s - loss: 0.2694 - accuracy: 0.9121\n",
      "Epoch 11: val_loss did not improve from 0.20302\n",
      "32/32 [==============================] - 28s 887ms/step - loss: 0.2694 - accuracy: 0.9121 - val_loss: 0.3352 - val_accuracy: 0.8813\n",
      "Epoch 12/15\n",
      "32/32 [==============================] - ETA: 0s - loss: 0.2580 - accuracy: 0.9150\n",
      "Epoch 12: val_loss did not improve from 0.20302\n",
      "32/32 [==============================] - 28s 867ms/step - loss: 0.2580 - accuracy: 0.9150 - val_loss: 0.4824 - val_accuracy: 0.8687\n",
      "Epoch 13/15\n",
      "32/32 [==============================] - ETA: 0s - loss: 0.2329 - accuracy: 0.9375\n",
      "Epoch 13: val_loss did not improve from 0.20302\n",
      "32/32 [==============================] - 28s 860ms/step - loss: 0.2329 - accuracy: 0.9375 - val_loss: 0.2888 - val_accuracy: 0.9125\n",
      "Epoch 14/15\n",
      "32/32 [==============================] - ETA: 0s - loss: 0.2455 - accuracy: 0.9336\n",
      "Epoch 14: val_loss did not improve from 0.20302\n",
      "32/32 [==============================] - 27s 856ms/step - loss: 0.2455 - accuracy: 0.9336 - val_loss: 0.2811 - val_accuracy: 0.9125\n",
      "Epoch 15/15\n",
      "32/32 [==============================] - ETA: 0s - loss: 0.2379 - accuracy: 0.9258\n",
      "Epoch 15: val_loss did not improve from 0.20302\n",
      "32/32 [==============================] - 28s 863ms/step - loss: 0.2379 - accuracy: 0.9258 - val_loss: 0.2111 - val_accuracy: 0.9375\n"
     ]
    }
   ],
   "source": [
    "history = model.fit(train_data, epochs=15, steps_per_epoch=32, \n",
    "                                    validation_data=validation_data, validation_steps=5,\n",
    "                                    callbacks=[early_stop, checkpoint])"
   ]
  },
  {
   "cell_type": "code",
   "execution_count": 72,
   "metadata": {},
   "outputs": [
    {
     "name": "stdout",
     "output_type": "stream",
     "text": [
      " 357/2270 [===>..........................] - ETA: 28:02 - loss: 0.3319 - accuracy: 0.9038"
     ]
    },
    {
     "ename": "KeyboardInterrupt",
     "evalue": "",
     "output_type": "error",
     "traceback": [
      "\u001b[1;31m---------------------------------------------------------------------------\u001b[0m",
      "\u001b[1;31mKeyboardInterrupt\u001b[0m                         Traceback (most recent call last)",
      "\u001b[1;32m~\\AppData\\Local\\Temp\\ipykernel_5376\\552339366.py\u001b[0m in \u001b[0;36m<module>\u001b[1;34m\u001b[0m\n\u001b[1;32m----> 1\u001b[1;33m \u001b[0mscore\u001b[0m \u001b[1;33m=\u001b[0m \u001b[0mmodel\u001b[0m\u001b[1;33m.\u001b[0m\u001b[0mevaluate\u001b[0m\u001b[1;33m(\u001b[0m\u001b[0mtest_data\u001b[0m\u001b[1;33m)\u001b[0m\u001b[1;33m\u001b[0m\u001b[0m\n\u001b[0m\u001b[0;32m      2\u001b[0m \u001b[0mscore\u001b[0m\u001b[1;33m\u001b[0m\u001b[0m\n",
      "\u001b[1;32mc:\\Users\\Tea_W\\AppData\\Local\\Programs\\Python\\Python37\\lib\\site-packages\\keras\\utils\\traceback_utils.py\u001b[0m in \u001b[0;36merror_handler\u001b[1;34m(*args, **kwargs)\u001b[0m\n\u001b[0;32m     63\u001b[0m         \u001b[0mfiltered_tb\u001b[0m \u001b[1;33m=\u001b[0m \u001b[1;32mNone\u001b[0m\u001b[1;33m\u001b[0m\u001b[0m\n\u001b[0;32m     64\u001b[0m         \u001b[1;32mtry\u001b[0m\u001b[1;33m:\u001b[0m\u001b[1;33m\u001b[0m\u001b[0m\n\u001b[1;32m---> 65\u001b[1;33m             \u001b[1;32mreturn\u001b[0m \u001b[0mfn\u001b[0m\u001b[1;33m(\u001b[0m\u001b[1;33m*\u001b[0m\u001b[0margs\u001b[0m\u001b[1;33m,\u001b[0m \u001b[1;33m**\u001b[0m\u001b[0mkwargs\u001b[0m\u001b[1;33m)\u001b[0m\u001b[1;33m\u001b[0m\u001b[0m\n\u001b[0m\u001b[0;32m     66\u001b[0m         \u001b[1;32mexcept\u001b[0m \u001b[0mException\u001b[0m \u001b[1;32mas\u001b[0m \u001b[0me\u001b[0m\u001b[1;33m:\u001b[0m\u001b[1;33m\u001b[0m\u001b[0m\n\u001b[0;32m     67\u001b[0m             \u001b[0mfiltered_tb\u001b[0m \u001b[1;33m=\u001b[0m \u001b[0m_process_traceback_frames\u001b[0m\u001b[1;33m(\u001b[0m\u001b[0me\u001b[0m\u001b[1;33m.\u001b[0m\u001b[0m__traceback__\u001b[0m\u001b[1;33m)\u001b[0m\u001b[1;33m\u001b[0m\u001b[0m\n",
      "\u001b[1;32mc:\\Users\\Tea_W\\AppData\\Local\\Programs\\Python\\Python37\\lib\\site-packages\\keras\\engine\\training.py\u001b[0m in \u001b[0;36mevaluate\u001b[1;34m(self, x, y, batch_size, verbose, sample_weight, steps, callbacks, max_queue_size, workers, use_multiprocessing, return_dict, **kwargs)\u001b[0m\n\u001b[0;32m   1945\u001b[0m                         ):\n\u001b[0;32m   1946\u001b[0m                             \u001b[0mcallbacks\u001b[0m\u001b[1;33m.\u001b[0m\u001b[0mon_test_batch_begin\u001b[0m\u001b[1;33m(\u001b[0m\u001b[0mstep\u001b[0m\u001b[1;33m)\u001b[0m\u001b[1;33m\u001b[0m\u001b[0m\n\u001b[1;32m-> 1947\u001b[1;33m                             \u001b[0mtmp_logs\u001b[0m \u001b[1;33m=\u001b[0m \u001b[0mself\u001b[0m\u001b[1;33m.\u001b[0m\u001b[0mtest_function\u001b[0m\u001b[1;33m(\u001b[0m\u001b[0miterator\u001b[0m\u001b[1;33m)\u001b[0m\u001b[1;33m\u001b[0m\u001b[0m\n\u001b[0m\u001b[0;32m   1948\u001b[0m                             \u001b[1;32mif\u001b[0m \u001b[0mdata_handler\u001b[0m\u001b[1;33m.\u001b[0m\u001b[0mshould_sync\u001b[0m\u001b[1;33m:\u001b[0m\u001b[1;33m\u001b[0m\u001b[0m\n\u001b[0;32m   1949\u001b[0m                                 \u001b[0mcontext\u001b[0m\u001b[1;33m.\u001b[0m\u001b[0masync_wait\u001b[0m\u001b[1;33m(\u001b[0m\u001b[1;33m)\u001b[0m\u001b[1;33m\u001b[0m\u001b[0m\n",
      "\u001b[1;32mc:\\Users\\Tea_W\\AppData\\Local\\Programs\\Python\\Python37\\lib\\site-packages\\tensorflow\\python\\util\\traceback_utils.py\u001b[0m in \u001b[0;36merror_handler\u001b[1;34m(*args, **kwargs)\u001b[0m\n\u001b[0;32m    148\u001b[0m     \u001b[0mfiltered_tb\u001b[0m \u001b[1;33m=\u001b[0m \u001b[1;32mNone\u001b[0m\u001b[1;33m\u001b[0m\u001b[0m\n\u001b[0;32m    149\u001b[0m     \u001b[1;32mtry\u001b[0m\u001b[1;33m:\u001b[0m\u001b[1;33m\u001b[0m\u001b[0m\n\u001b[1;32m--> 150\u001b[1;33m       \u001b[1;32mreturn\u001b[0m \u001b[0mfn\u001b[0m\u001b[1;33m(\u001b[0m\u001b[1;33m*\u001b[0m\u001b[0margs\u001b[0m\u001b[1;33m,\u001b[0m \u001b[1;33m**\u001b[0m\u001b[0mkwargs\u001b[0m\u001b[1;33m)\u001b[0m\u001b[1;33m\u001b[0m\u001b[0m\n\u001b[0m\u001b[0;32m    151\u001b[0m     \u001b[1;32mexcept\u001b[0m \u001b[0mException\u001b[0m \u001b[1;32mas\u001b[0m \u001b[0me\u001b[0m\u001b[1;33m:\u001b[0m\u001b[1;33m\u001b[0m\u001b[0m\n\u001b[0;32m    152\u001b[0m       \u001b[0mfiltered_tb\u001b[0m \u001b[1;33m=\u001b[0m \u001b[0m_process_traceback_frames\u001b[0m\u001b[1;33m(\u001b[0m\u001b[0me\u001b[0m\u001b[1;33m.\u001b[0m\u001b[0m__traceback__\u001b[0m\u001b[1;33m)\u001b[0m\u001b[1;33m\u001b[0m\u001b[0m\n",
      "\u001b[1;32mc:\\Users\\Tea_W\\AppData\\Local\\Programs\\Python\\Python37\\lib\\site-packages\\tensorflow\\python\\eager\\def_function.py\u001b[0m in \u001b[0;36m__call__\u001b[1;34m(self, *args, **kwds)\u001b[0m\n\u001b[0;32m    913\u001b[0m \u001b[1;33m\u001b[0m\u001b[0m\n\u001b[0;32m    914\u001b[0m       \u001b[1;32mwith\u001b[0m \u001b[0mOptionalXlaContext\u001b[0m\u001b[1;33m(\u001b[0m\u001b[0mself\u001b[0m\u001b[1;33m.\u001b[0m\u001b[0m_jit_compile\u001b[0m\u001b[1;33m)\u001b[0m\u001b[1;33m:\u001b[0m\u001b[1;33m\u001b[0m\u001b[0m\n\u001b[1;32m--> 915\u001b[1;33m         \u001b[0mresult\u001b[0m \u001b[1;33m=\u001b[0m \u001b[0mself\u001b[0m\u001b[1;33m.\u001b[0m\u001b[0m_call\u001b[0m\u001b[1;33m(\u001b[0m\u001b[1;33m*\u001b[0m\u001b[0margs\u001b[0m\u001b[1;33m,\u001b[0m \u001b[1;33m**\u001b[0m\u001b[0mkwds\u001b[0m\u001b[1;33m)\u001b[0m\u001b[1;33m\u001b[0m\u001b[0m\n\u001b[0m\u001b[0;32m    916\u001b[0m \u001b[1;33m\u001b[0m\u001b[0m\n\u001b[0;32m    917\u001b[0m       \u001b[0mnew_tracing_count\u001b[0m \u001b[1;33m=\u001b[0m \u001b[0mself\u001b[0m\u001b[1;33m.\u001b[0m\u001b[0mexperimental_get_tracing_count\u001b[0m\u001b[1;33m(\u001b[0m\u001b[1;33m)\u001b[0m\u001b[1;33m\u001b[0m\u001b[0m\n",
      "\u001b[1;32mc:\\Users\\Tea_W\\AppData\\Local\\Programs\\Python\\Python37\\lib\\site-packages\\tensorflow\\python\\eager\\def_function.py\u001b[0m in \u001b[0;36m_call\u001b[1;34m(self, *args, **kwds)\u001b[0m\n\u001b[0;32m    952\u001b[0m       \u001b[1;31m# In this case we have not created variables on the first call. So we can\u001b[0m\u001b[1;33m\u001b[0m\u001b[1;33m\u001b[0m\u001b[0m\n\u001b[0;32m    953\u001b[0m       \u001b[1;31m# run the first trace but we should fail if variables are created.\u001b[0m\u001b[1;33m\u001b[0m\u001b[1;33m\u001b[0m\u001b[0m\n\u001b[1;32m--> 954\u001b[1;33m       \u001b[0mresults\u001b[0m \u001b[1;33m=\u001b[0m \u001b[0mself\u001b[0m\u001b[1;33m.\u001b[0m\u001b[0m_stateful_fn\u001b[0m\u001b[1;33m(\u001b[0m\u001b[1;33m*\u001b[0m\u001b[0margs\u001b[0m\u001b[1;33m,\u001b[0m \u001b[1;33m**\u001b[0m\u001b[0mkwds\u001b[0m\u001b[1;33m)\u001b[0m\u001b[1;33m\u001b[0m\u001b[0m\n\u001b[0m\u001b[0;32m    955\u001b[0m       \u001b[1;32mif\u001b[0m \u001b[0mself\u001b[0m\u001b[1;33m.\u001b[0m\u001b[0m_created_variables\u001b[0m \u001b[1;32mand\u001b[0m \u001b[1;32mnot\u001b[0m \u001b[0mALLOW_DYNAMIC_VARIABLE_CREATION\u001b[0m\u001b[1;33m:\u001b[0m\u001b[1;33m\u001b[0m\u001b[0m\n\u001b[0;32m    956\u001b[0m         raise ValueError(\"Creating variables on a non-first call to a function\"\n",
      "\u001b[1;32mc:\\Users\\Tea_W\\AppData\\Local\\Programs\\Python\\Python37\\lib\\site-packages\\tensorflow\\python\\eager\\function.py\u001b[0m in \u001b[0;36m__call__\u001b[1;34m(self, *args, **kwargs)\u001b[0m\n\u001b[0;32m   2495\u001b[0m        filtered_flat_args) = self._maybe_define_function(args, kwargs)\n\u001b[0;32m   2496\u001b[0m     return graph_function._call_flat(\n\u001b[1;32m-> 2497\u001b[1;33m         filtered_flat_args, captured_inputs=graph_function.captured_inputs)  # pylint: disable=protected-access\n\u001b[0m\u001b[0;32m   2498\u001b[0m \u001b[1;33m\u001b[0m\u001b[0m\n\u001b[0;32m   2499\u001b[0m   \u001b[1;33m@\u001b[0m\u001b[0mproperty\u001b[0m\u001b[1;33m\u001b[0m\u001b[0m\n",
      "\u001b[1;32mc:\\Users\\Tea_W\\AppData\\Local\\Programs\\Python\\Python37\\lib\\site-packages\\tensorflow\\python\\eager\\function.py\u001b[0m in \u001b[0;36m_call_flat\u001b[1;34m(self, args, captured_inputs, cancellation_manager)\u001b[0m\n\u001b[0;32m   1861\u001b[0m       \u001b[1;31m# No tape is watching; skip to running the function.\u001b[0m\u001b[1;33m\u001b[0m\u001b[1;33m\u001b[0m\u001b[0m\n\u001b[0;32m   1862\u001b[0m       return self._build_call_outputs(self._inference_function.call(\n\u001b[1;32m-> 1863\u001b[1;33m           ctx, args, cancellation_manager=cancellation_manager))\n\u001b[0m\u001b[0;32m   1864\u001b[0m     forward_backward = self._select_forward_and_backward_functions(\n\u001b[0;32m   1865\u001b[0m         \u001b[0margs\u001b[0m\u001b[1;33m,\u001b[0m\u001b[1;33m\u001b[0m\u001b[0m\n",
      "\u001b[1;32mc:\\Users\\Tea_W\\AppData\\Local\\Programs\\Python\\Python37\\lib\\site-packages\\tensorflow\\python\\eager\\function.py\u001b[0m in \u001b[0;36mcall\u001b[1;34m(self, ctx, args, cancellation_manager)\u001b[0m\n\u001b[0;32m    502\u001b[0m               \u001b[0minputs\u001b[0m\u001b[1;33m=\u001b[0m\u001b[0margs\u001b[0m\u001b[1;33m,\u001b[0m\u001b[1;33m\u001b[0m\u001b[0m\n\u001b[0;32m    503\u001b[0m               \u001b[0mattrs\u001b[0m\u001b[1;33m=\u001b[0m\u001b[0mattrs\u001b[0m\u001b[1;33m,\u001b[0m\u001b[1;33m\u001b[0m\u001b[0m\n\u001b[1;32m--> 504\u001b[1;33m               ctx=ctx)\n\u001b[0m\u001b[0;32m    505\u001b[0m         \u001b[1;32melse\u001b[0m\u001b[1;33m:\u001b[0m\u001b[1;33m\u001b[0m\u001b[0m\n\u001b[0;32m    506\u001b[0m           outputs = execute.execute_with_cancellation(\n",
      "\u001b[1;32mc:\\Users\\Tea_W\\AppData\\Local\\Programs\\Python\\Python37\\lib\\site-packages\\tensorflow\\python\\eager\\execute.py\u001b[0m in \u001b[0;36mquick_execute\u001b[1;34m(op_name, num_outputs, inputs, attrs, ctx, name)\u001b[0m\n\u001b[0;32m     53\u001b[0m     \u001b[0mctx\u001b[0m\u001b[1;33m.\u001b[0m\u001b[0mensure_initialized\u001b[0m\u001b[1;33m(\u001b[0m\u001b[1;33m)\u001b[0m\u001b[1;33m\u001b[0m\u001b[0m\n\u001b[0;32m     54\u001b[0m     tensors = pywrap_tfe.TFE_Py_Execute(ctx._handle, device_name, op_name,\n\u001b[1;32m---> 55\u001b[1;33m                                         inputs, attrs, num_outputs)\n\u001b[0m\u001b[0;32m     56\u001b[0m   \u001b[1;32mexcept\u001b[0m \u001b[0mcore\u001b[0m\u001b[1;33m.\u001b[0m\u001b[0m_NotOkStatusException\u001b[0m \u001b[1;32mas\u001b[0m \u001b[0me\u001b[0m\u001b[1;33m:\u001b[0m\u001b[1;33m\u001b[0m\u001b[0m\n\u001b[0;32m     57\u001b[0m     \u001b[1;32mif\u001b[0m \u001b[0mname\u001b[0m \u001b[1;32mis\u001b[0m \u001b[1;32mnot\u001b[0m \u001b[1;32mNone\u001b[0m\u001b[1;33m:\u001b[0m\u001b[1;33m\u001b[0m\u001b[0m\n",
      "\u001b[1;31mKeyboardInterrupt\u001b[0m: "
     ]
    }
   ],
   "source": [
    "score = model.evaluate(test_data)\n",
    "score"
   ]
  },
  {
   "cell_type": "code",
   "execution_count": 98,
   "metadata": {},
   "outputs": [],
   "source": [
    "import cv2\n",
    "import numpy as np\n",
    "class_names = ['cat', 'dog', 'person']  \n",
    "def predict(image_file):\n",
    "    image = cv2.imread(image_file)\n",
    "    image = cv2.resize(image, (224,224))\n",
    "    image = image / 255.0  # Normalize pixel values\n",
    "    image = np.expand_dims(image, axis=0)  # Add a batch dimension\n",
    "    predictions = model.predict(image)\n",
    "    top_classes = np.argsort(predictions[0])[::-1][:5]  # Get the top 5 predicted classes\n",
    "\n",
    "    for class_idx in top_classes:\n",
    "        class_name = class_names[class_idx]\n",
    "        probability = predictions[0][class_idx]\n",
    "        print(f\"Class: {class_name}, Probability: {probability:.4f}\")\n"
   ]
  },
  {
   "cell_type": "code",
   "execution_count": 99,
   "metadata": {},
   "outputs": [
    {
     "name": "stdout",
     "output_type": "stream",
     "text": [
      "1/1 [==============================] - 1s 1s/step\n",
      "Class: person, Probability: 0.9999\n",
      "Class: dog, Probability: 0.0001\n",
      "Class: cat, Probability: 0.0000\n"
     ]
    }
   ],
   "source": [
    "predict(\"person.jpg\")"
   ]
  },
  {
   "cell_type": "code",
   "execution_count": 100,
   "metadata": {},
   "outputs": [
    {
     "name": "stdout",
     "output_type": "stream",
     "text": [
      "1/1 [==============================] - 0s 38ms/step\n",
      "Class: dog, Probability: 0.8058\n",
      "Class: person, Probability: 0.1427\n",
      "Class: cat, Probability: 0.0514\n"
     ]
    }
   ],
   "source": [
    "predict(\"dog.jpg\")"
   ]
  },
  {
   "cell_type": "code",
   "execution_count": 101,
   "metadata": {},
   "outputs": [
    {
     "name": "stdout",
     "output_type": "stream",
     "text": [
      "1/1 [==============================] - 0s 38ms/step\n",
      "Class: cat, Probability: 0.9451\n",
      "Class: person, Probability: 0.0548\n",
      "Class: dog, Probability: 0.0001\n"
     ]
    }
   ],
   "source": [
    "predict(\"cat1.jpg\")"
   ]
  },
  {
   "cell_type": "code",
   "execution_count": 102,
   "metadata": {},
   "outputs": [
    {
     "name": "stdout",
     "output_type": "stream",
     "text": [
      "1/1 [==============================] - 0s 40ms/step\n",
      "Class: cat, Probability: 0.9821\n",
      "Class: person, Probability: 0.0147\n",
      "Class: dog, Probability: 0.0031\n"
     ]
    }
   ],
   "source": [
    "predict(\"cat2.jpg\")"
   ]
  },
  {
   "cell_type": "code",
   "execution_count": 103,
   "metadata": {},
   "outputs": [
    {
     "name": "stderr",
     "output_type": "stream",
     "text": [
      "WARNING:absl:Found untraced functions such as _jit_compiled_convolution_op, _jit_compiled_convolution_op, _jit_compiled_convolution_op, _jit_compiled_convolution_op, _jit_compiled_convolution_op while saving (showing 5 of 52). These functions will not be directly callable after loading.\n"
     ]
    },
    {
     "name": "stdout",
     "output_type": "stream",
     "text": [
      "INFO:tensorflow:Assets written to: C:\\Users\\Tea_W\\AppData\\Local\\Temp\\tmpx3scht95\\assets\n"
     ]
    },
    {
     "name": "stderr",
     "output_type": "stream",
     "text": [
      "INFO:tensorflow:Assets written to: C:\\Users\\Tea_W\\AppData\\Local\\Temp\\tmpx3scht95\\assets\n"
     ]
    },
    {
     "data": {
      "text/plain": [
       "11488568"
      ]
     },
     "execution_count": 103,
     "metadata": {},
     "output_type": "execute_result"
    }
   ],
   "source": [
    "tflite_converter = tf.lite.TFLiteConverter.from_keras_model(model)\n",
    "\n",
    "#convert\n",
    "tflite_model = tflite_converter.convert()\n",
    "open(\"tf_lite_model.tflite\", \"wb\").write(tflite_model)"
   ]
  }
 ],
 "metadata": {
  "kernelspec": {
   "display_name": ".venv",
   "language": "python",
   "name": "python3"
  },
  "language_info": {
   "codemirror_mode": {
    "name": "ipython",
    "version": 3
   },
   "file_extension": ".py",
   "mimetype": "text/x-python",
   "name": "python",
   "nbconvert_exporter": "python",
   "pygments_lexer": "ipython3",
   "version": "3.7.0"
  },
  "orig_nbformat": 4
 },
 "nbformat": 4,
 "nbformat_minor": 2
}
